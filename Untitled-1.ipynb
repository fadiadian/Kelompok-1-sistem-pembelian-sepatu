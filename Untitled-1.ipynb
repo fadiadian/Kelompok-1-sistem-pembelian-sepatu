{
 "cells": [
  {
   "cell_type": "code",
   "execution_count": 9,
   "metadata": {},
   "outputs": [
    {
     "name": "stdout",
     "output_type": "stream",
     "text": [
      "Yeezy\n"
     ]
    }
   ],
   "source": [
    "import pandas as pd\n",
    "\n",
    "def read_data_from_csv(file_path):\n",
    "    reader = pd.read_excel(file_path)\n",
    "    reader = pd.DataFrame(reader)\n",
    "    return reader\n",
    "\n",
    "csv_file_path = \"Persediaan.xlsx\"  # Ganti dengan path file CSV Anda\n",
    "all_data = read_data_from_csv(csv_file_path)\n",
    "random_data = all_data.sample(n=8)\n",
    "print(random_data['series'].values[0])\n",
    "\n"
   ]
  },
  {
   "cell_type": "code",
   "execution_count": null,
   "metadata": {},
   "outputs": [],
   "source": [
    "import pandas as pd\n",
    "import os\n",
    "\n",
    "# Baca file XLSX\n",
    "file_path = os.path.join(os.getcwd(), 'Kelompok-1-sistem-pembelian-sepatu', 'Persediaan.xlsx')\n",
    "df = pd.read_excel(file_path)\n",
    "def _baca_stok_dari_csv(self):\n",
    "        try:\n",
    "            df = pd.read_csv(self.file_path)\n",
    "            df = df.set_index(['model', 'series', 'ukuran'])\n",
    "            return df\n",
    "        except FileNotFoundError:\n",
    "            return pd.DataFrame(columns=['model', 'series', 'ukuran', 'jumlah', 'harga']).set_index(['model', 'series', 'ukuran'])\n",
    "\n",
    "def _tulis_stok_ke_csv(self):\n",
    "        self.stok_sepatu.to_csv(self.file_path)\n",
    "def tambah_sepatu(self, model, series, ukuran, jumlah, harga):\n",
    "        if (model, series, ukuran) in self.stok_sepatu.index:\n",
    "            self.stok_sepatu.at[(model, series, ukuran), 'jumlah'] += jumlah\n",
    "        else:\n",
    "            new_row = pd.DataFrame({'jumlah': [jumlah], 'harga' : [harga]}, index=pd.MultiIndex.from_tuples([(model, series, ukuran)], names=['model', 'series', 'ukuran']))\n",
    "            self.stok_sepatu = pd.concat([self.stok_sepatu, new_row])\n",
    "        self._tulis_stok_ke_csv()\n",
    "        print(f\"{jumlah} {model} {series} ukuran {ukuran} telah ditambahkan ke stok dengan harga {harga}.\")\n",
    "kode_produk = str(input(\"Masukkan kode produk: \"))\n",
    "print_produk_info(df, kode_produk)\n"
   ]
  },
  {
   "cell_type": "code",
   "execution_count": null,
   "metadata": {},
   "outputs": [],
   "source": [
    "import pandas as pd\n",
    "import os\n"
   ]
  }
 ],
 "metadata": {
  "kernelspec": {
   "display_name": "Python 3",
   "language": "python",
   "name": "python3"
  },
  "language_info": {
   "codemirror_mode": {
    "name": "ipython",
    "version": 3
   },
   "file_extension": ".py",
   "mimetype": "text/x-python",
   "name": "python",
   "nbconvert_exporter": "python",
   "pygments_lexer": "ipython3",
   "version": "3.12.2"
  }
 },
 "nbformat": 4,
 "nbformat_minor": 2
}
